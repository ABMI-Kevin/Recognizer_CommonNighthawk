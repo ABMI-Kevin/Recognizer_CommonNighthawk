{
 "cells": [
  {
   "cell_type": "markdown",
   "metadata": {},
   "source": [
    "\"\"\"\n",
    "The MIT License (MIT)\n",
    "\n",
    "Copyright (c) 2017 Chris Scott\n",
    "\n",
    "Permission is hereby granted, free of charge, to any person obtaining a copy\n",
    "of this software and associated documentation files (the \"Software\"), to deal\n",
    "in the Software without restriction, including without limitation the rights\n",
    "to use, copy, modify, merge, publish, distribute, sublicense, and/or sell\n",
    "copies of the Software, and to permit persons to whom the Software is\n",
    "furnished to do so, subject to the following conditions:\n",
    "\n",
    "The above copyright notice and this permission notice shall be included in all\n",
    "copies or substantial portions of the Software.\n",
    "\n",
    "THE SOFTWARE IS PROVIDED \"AS IS\", WITHOUT WARRANTY OF ANY KIND,\n",
    "EXPRESS OR IMPLIED, INCLUDING BUT NOT LIMITED TO THE WARRANTIES OF\n",
    "MERCHANTABILITY, FITNESS FOR A PARTICULAR PURPOSE AND NONINFRINGEMENT.\n",
    "IN NO EVENT SHALL THE AUTHORS OR COPYRIGHT HOLDERS BE LIABLE FOR ANY CLAIM,\n",
    "DAMAGES OR OTHER LIABILITY, WHETHER IN AN ACTION OF CONTRACT, TORT OR\n",
    "OTHERWISE, ARISING FROM, OUT OF OR IN CONNECTION WITH THE SOFTWARE OR THE USE\n",
    "OR OTHER DEALINGS IN THE SOFTWARE.\n",
    "\"\"\""
   ]
  },
  {
   "cell_type": "markdown",
   "metadata": {},
   "source": [
    "<a target=\"_blank\" href=\"https://colab.research.google.com/github/ABbiodiversity/Recognizer_Ovenbird/blob/main/Ovenbird_Recognizer_Processing.ipynb\">\n",
    "  <img src=\"https://colab.research.google.com/assets/colab-badge.svg\" alt=\"Open In Colab\"/>\n",
    "</a>\n",
    "\n",
    "#Adjust the Colab link!"
   ]
  },
  {
   "cell_type": "markdown",
   "metadata": {},
   "source": [
    "### Import Packages\n",
    "\n",
    "Import packages to run the model.  Updates to packages since the model was originally created may result in warnings when running the model.  As of March 2024 the most up to date versions of the packages below allowed the model to be run successfully on audio data despite any warnings that python may generate during the output."
   ]
  },
  {
   "cell_type": "code",
   "execution_count": 2,
   "metadata": {},
   "outputs": [
    {
     "name": "stdout",
     "output_type": "stream",
     "text": [
      "tensorflow: 2.16.1\n"
     ]
    }
   ],
   "source": [
    "from datetime import timedelta\n",
    "import librosa\n",
    "import numpy as np\n",
    "import os\n",
    "import pandas as pd\n",
    "from scipy.special import expit\n",
    "import tensorflow as tf\n",
    "import time\n",
    "from tqdm import tqdm_notebook"
   ]
  },
  {
   "cell_type": "markdown",
   "metadata": {},
   "source": [
    "### Google Colab Steps\n",
    "\n",
    "If running the notebook in Colab then you'll need to mount Google Drive and clone the repository to it in order to call the models and your recording files when processing.  Skip the next two steps if running on a local machine.\n",
    "\n",
    "### Mount Google Drive"
   ]
  },
  {
   "cell_type": "code",
   "execution_count": null,
   "metadata": {},
   "outputs": [],
   "source": [
    "from google.colab import drive\n",
    "drive.mount('/content/drive/')"
   ]
  },
  {
   "cell_type": "markdown",
   "metadata": {},
   "source": [
    "### Clone the Github repository\n",
    "\n",
    "If running the notebook through Colab then clone the Github repository to your Google Drive in order to access the model files stored in the repository."
   ]
  },
  {
   "cell_type": "code",
   "execution_count": null,
   "metadata": {},
   "outputs": [],
   "source": [
    "!git clone https://github.com/ABbiodiversity/Recognizer_Ovenbird.git\n",
    "\n",
    "#Adjust this link"
   ]
  },
  {
   "cell_type": "markdown",
   "metadata": {},
   "source": [
    "## Change your working directory\n",
    "Change your working directory to the folder containing the notebook and the model files.\n",
    "\n",
    "If running locally then this will be the cloned repository or the folder where you downloaded the files if you didn't clone them with git.\n",
    "\n",
    "If running in Colab then the location should be the location that the above step cloned into.\n",
    "\n",
    "This cell will print the working directory so you can double check that it is pointing to the right directory."
   ]
  },
  {
   "cell_type": "code",
   "execution_count": 3,
   "metadata": {},
   "outputs": [
    {
     "name": "stdout",
     "output_type": "stream",
     "text": [
      "C:\\Users\\Kevin Kelly\\Documents\\Repos\\Recognizer-Common_Nighthawk\n"
     ]
    },
    {
     "name": "stderr",
     "output_type": "stream",
     "text": [
      "C:\\Users\\Kevin Kelly\\AppData\\Roaming\\Python\\Python311\\site-packages\\IPython\\core\\magics\\osm.py:417: UserWarning: This is now an optional IPython functionality, setting dhist requires you to install the `pickleshare` library.\n",
      "  self.shell.db['dhist'] = compress_dhist(dhist)[-100:]\n"
     ]
    }
   ],
   "source": [
    "# Change the working directory using the %cd command\n",
    "%cd \"C:/Users/Kevin Kelly/Documents/Repos/Recognizer_CommonNighthawk\""
   ]
  },
  {
   "cell_type": "markdown",
   "metadata": {},
   "source": [
    "## Designate Recording Folder\n",
    "\n",
    "Enter the full filepath of the folder where the recording files to be processed are stored. The filepath will need to be changed to wherever you have stored the files on your machine or on Google Drive, depending on your processing choice.\n",
    "\n",
    "Example filepath for local files: \n",
    "```python\n",
    "\"C:/Users/User/Documents/Ovenbird_recordings/\"\n",
    "```\n",
    "If you're unfamiliar with the syntax for Google Drive paths in Colab, \"/content/drive/\" is required, followed by the rest of the filepath in your Google Drive folder structure, excluding any spaces in the folder names. Example filepath for Google Drive folder: \n",
    "```python\n",
    "\"/content/drive/MyDrive/Ovenbird/Recordings_Ovenbird/'\n",
    "```"
   ]
  },
  {
   "cell_type": "code",
   "execution_count": 7,
   "metadata": {},
   "outputs": [],
   "source": [
    "# Change path below to match your recordings folder filepath\n",
    "RECORDINGS = 'C:/Users/Kevin Kelly/Documents/Repos/Recognizer_CommonNighthawk/Recordings-test/' # Change Me to match your recordings filepath"
   ]
  },
  {
   "cell_type": "markdown",
   "metadata": {},
   "source": [
    "### List the recording files\n",
    "If you want to check that you have correctly designated the folderpath of your target recordings and that the folder contains the recording files then you can run the following cell to list all the contents of your RECORDINGS folder."
   ]
  },
  {
   "cell_type": "code",
   "execution_count": 8,
   "metadata": {},
   "outputs": [
    {
     "data": {
      "text/plain": [
       "['01_s_EDR-04-0000_20160713_220000.wav',\n",
       " 'Matchedbyuser_20230523_184925.wav',\n",
       " 'Matchedbyuser_20230523_184925_detection_function-64-1.csv',\n",
       " 'Matchedbyuser_20230523_184925_detection_function-64-32.csv',\n",
       " 'Matchedbyuser_20230523_184925_detection_function-64-64.csv',\n",
       " 'results']"
      ]
     },
     "execution_count": 8,
     "metadata": {},
     "output_type": "execute_result"
    }
   ],
   "source": [
    "os.listdir(RECORDINGS)"
   ]
  },
  {
   "cell_type": "markdown",
   "metadata": {},
   "source": [
    "# Run the Common Nighthawk recognizer on your recordings\n",
    "\n",
    "The following script will run the audio files in your \"RECORDINGS\" folder through the Ovenbird recognizer and export the results for each recording file.  \n",
    "\n",
    "<b> Redo tensorflow model file names and paths </b>"
   ]
  },
  {
   "cell_type": "code",
   "execution_count": 9,
   "metadata": {},
   "outputs": [
    {
     "name": "stdout",
     "output_type": "stream",
     "text": [
      "WARNING:tensorflow:The saved meta_graph is possibly from an older release:\n",
      "'local_variables' collection should be of type 'byte_list', but instead is of type 'node_list'.\n",
      "WARNING:tensorflow:The saved meta_graph is possibly from an older release:\n",
      "'model_variables' collection should be of type 'byte_list', but instead is of type 'node_list'.\n",
      "INFO:tensorflow:Restoring parameters from C:\\Users\\Kevin Kelly\\Documents\\Repos\\Recognizer-Common_Nighthawk\\coni-model\n"
     ]
    },
    {
     "name": "stderr",
     "output_type": "stream",
     "text": [
      "C:\\Users\\Kevin Kelly\\AppData\\Local\\Temp\\ipykernel_18788\\373066670.py:33: TqdmDeprecationWarning: This function will be removed in tqdm==5.0.0\n",
      "Please use `tqdm.notebook.tqdm` instead of `tqdm.tqdm_notebook`\n",
      "  for filename in tqdm_notebook(audio_files):\n"
     ]
    },
    {
     "data": {
      "application/vnd.jupyter.widget-view+json": {
       "model_id": "93ba207c3beb4255a37a028e9acd6d63",
       "version_major": 2,
       "version_minor": 0
      },
      "text/plain": [
       "  0%|          | 0/2 [00:00<?, ?it/s]"
      ]
     },
     "metadata": {},
     "output_type": "display_data"
    }
   ],
   "source": [
    "def spectrogram_from_audio(y, sr):\n",
    "    sr = 16000\n",
    "    n_fft = 64\n",
    "    hop_length = 32\n",
    "    D = librosa.stft(y, n_fft=n_fft, hop_length=hop_length, window=np.blackman)[1:,:] # remove DC\n",
    "    D = librosa.power_to_db(np.abs(D)**2, ref=1.0)\n",
    "    D = np.swapaxes(D,0,1)[np.newaxis,np.newaxis,:,:] # [batch,height,width,channels]\n",
    "    return D\n",
    "\n",
    "def process_directory(recordings):\n",
    "    # make sure there is somewhere to save results\n",
    "    results_location = os.path.join(recordings, 'results')\n",
    "    if not os.path.exists(results_location):\n",
    "        os.makedirs(results_location)\n",
    "    \n",
    "    # find tensorflow model files\n",
    "    meta_graph_path = os.path.join(os.path.dirname(os.path.abspath('__file__')), 'coni-model.meta')\n",
    "    checkpoint_path = os.path.join(os.path.dirname(os.path.abspath('__file__')), 'coni-model')\n",
    "    \n",
    "    # list all audio files in directory\n",
    "    audio_files = librosa.util.find_files(recordings, ext=['flac', 'wav'], recurse=True, case_sensitive=False, limit=None, offset=0)\n",
    "    audio_files = list(set(audio_files)) # remove duplicates - not sure why find_files produces them!\n",
    "    \n",
    "    tf.compat.v1.reset_default_graph()\n",
    "    with tf.compat.v1.Session() as sess:\n",
    "        new_saver = tf.compat.v1.train.import_meta_graph(meta_graph_path)\n",
    "        new_saver.restore(sess, checkpoint_path)\n",
    "        features = tf.compat.v1.get_collection('input')[0]\n",
    "        is_training = tf.compat.v1.get_collection('is_training')[0]\n",
    "        level = tf.compat.v1.get_collection('level')[0]\n",
    "        detection_fn = tf.compat.v1.get_collection('detection_fn')[0]\n",
    "        \n",
    "        for filename in tqdm_notebook(audio_files):\n",
    "            y, sr = librosa.load(filename, sr=16000, mono=True)\n",
    "            S = spectrogram_from_audio(y, sr)\n",
    "            level_dB, detection_function = sess.run([level, detection_fn], feed_dict={features: S, is_training: False})\n",
    "            level_dB = level_dB[0,0,:,0]\n",
    "            detection_function = detection_function[0,0,:,0]\n",
    "            duration_secs = y.size / float(sr) \n",
    "            times = np.interp(np.arange(detection_function.size), [0,detection_function.size-1], [0,duration_secs])\n",
    "            df = pd.DataFrame({'detection_window_start_time': times, 'detector_score': detection_function, 'relative_sound_level': level_dB})\n",
    "        \n",
    "            base = os.path.basename(filename)\n",
    "            filename = os.path.splitext(base)[0]\n",
    "            savename = os.path.join(results_location, filename + '_detection_function.csv')\n",
    "            df.to_csv(savename, header=True, index=False)\n",
    "\n",
    "process_directory(RECORDINGS)"
   ]
  },
  {
   "cell_type": "markdown",
   "metadata": {},
   "source": [
    "# Results\n",
    "\n",
    "Results files will be exported in csv format to a folder called \"results\" within the RECORDINGS folder.  The files will have the same name as the audio recordings files with \"_detection_function\" as a suffix.  Each row in the files will consist of the detection window start time, the recognizer score (between 0 and 1) for that detection window, and the relative sound level for that detection window."
   ]
  }
 ],
 "metadata": {
  "kernelspec": {
   "display_name": "Python 3",
   "language": "python",
   "name": "python3"
  },
  "language_info": {
   "codemirror_mode": {
    "name": "ipython",
    "version": 3
   },
   "file_extension": ".py",
   "mimetype": "text/x-python",
   "name": "python",
   "nbconvert_exporter": "python",
   "pygments_lexer": "ipython3",
   "version": "3.11.7"
  },
  "widgets": {
   "state": {
    "10281d73194b41579d349ea7bfc39698": {
     "views": [
      {
       "cell_index": 1
      }
     ]
    }
   },
   "version": "1.2.0"
  }
 },
 "nbformat": 4,
 "nbformat_minor": 2
}
